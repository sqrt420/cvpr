{
 "cells": [
  {
   "cell_type": "code",
   "execution_count": 28,
   "metadata": {},
   "outputs": [],
   "source": [
    "import cv2, os, time\n",
    "import numpy as np\n",
    "import math"
   ]
  },
  {
   "cell_type": "code",
   "execution_count": 10,
   "metadata": {},
   "outputs": [],
   "source": [
    "def from_folder(folder_path):\n",
    "    data_folder= os.path.join(os.curdir, folder_path)\n",
    "    data_set = [os.path.join(data_folder,file) for file in os.listdir(data_folder) if os.path.isfile(os.path.join(data_folder,file))]\n",
    "    images = [cv2.imread(x , cv2.IMREAD_GRAYSCALE) for x in data_set]\n",
    "    return images"
   ]
  },
  {
   "cell_type": "code",
   "execution_count": 44,
   "metadata": {},
   "outputs": [],
   "source": [
    "def brisk(folder):\n",
    "    detector = cv2.BRISK_create()\n",
    "    all_imgs = from_folder(folder)\n",
    "    good_img = all_imgs[0]\n",
    "\n",
    "    for i in all_imgs:\n",
    "        start_t = time.time()\n",
    "        kpts1,des1 = detector.detectAndCompute(good_img,None)\n",
    "        kpts2,des2 = detector.detectAndCompute(i,None)\n",
    "  \n",
    "        des1 = np.float32(des1)\n",
    "        des2 = np.float32(des2)\n",
    "        \n",
    "        FLANN_INDEX_KDTREE = 0\n",
    "        index_params = dict(algorithm = FLANN_INDEX_KDTREE, trees = 5)\n",
    "        search_params = dict(checks=10)\n",
    "\n",
    "        flann = cv2.FlannBasedMatcher(index_params, search_params)\n",
    "\n",
    "        try:\n",
    "            matches = flann.knnMatch(des1,des2,k=2)\n",
    "\n",
    "\n",
    "            brisk_g = []\n",
    "            for m, n in matches:\n",
    "                if m.distance < 0.8 * n.distance:\n",
    "                    brisk_g.append(m)\n",
    "            v=np.inf\n",
    "            if len(brisk_g)>10:\n",
    "                M, mask = cv2.findHomography(\n",
    "                    np.float32([ kpts1[m_.queryIdx].pt for m_ in brisk_g ]).reshape(-1,1,2),\n",
    "                    np.float32([ kpts2[m_.trainIdx].pt for m_ in brisk_g ]).reshape(-1,1,2),\n",
    "                cv2.RANSAC,5.0)\n",
    "                if M is None:\n",
    "                    time_spend = time.time() - start_t\n",
    "                    yield 0 ,np.inf, time_spend\n",
    "                mm = mask.ravel().tolist() \n",
    "                hight, wight = good_img.shape\n",
    "                pts = np.float32([ [0,0], [0,hight-1], [wight-1,hight-1], [wight-1,0] ]).reshape(-1,1,2)\n",
    "                dst = cv2.perspectiveTransform(pts, M)\n",
    "                v = np.mean([np.sqrt(np.sum(x)) for x in (np.power(pts-dst,2))]/(np.sqrt(hight**2 + wight**2)))   \n",
    "            else:\n",
    "                mm = [0]\n",
    "\n",
    "            time_spend = time.time() - start_t\n",
    "        except:\n",
    "            continue\n",
    "\n",
    "        yield np.sum(mm)/(len(brisk_g)), v, time_spend"
   ]
  },
  {
   "cell_type": "code",
   "execution_count": 45,
   "metadata": {},
   "outputs": [],
   "source": [
    "def akaze(folder):\n",
    "    detector = cv2.AKAZE_create()\n",
    "    all_imgs = from_folder(folder)\n",
    "    good_img = all_imgs[0]\n",
    "\n",
    "    for i in all_imgs:\n",
    "        start_t = time.time()\n",
    "        kpts1,des1 = detector.detectAndCompute(good_img,None)\n",
    "        kpts2,des2 = detector.detectAndCompute(i,None)\n",
    "  \n",
    "        des1 = np.float32(des1)\n",
    "        des2 = np.float32(des2)\n",
    "        \n",
    "        FLANN_INDEX_KDTREE = 0\n",
    "        index_params = dict(algorithm = FLANN_INDEX_KDTREE, trees = 5)\n",
    "        search_params = dict(checks=10)\n",
    "\n",
    "        flann = cv2.FlannBasedMatcher(index_params, search_params)\n",
    "\n",
    "        try:\n",
    "            matches = flann.knnMatch(des1,des2,k=2)\n",
    "\n",
    "\n",
    "            akaze_g = []\n",
    "            for m, n in matches:\n",
    "                if m.distance < 0.8 * n.distance:\n",
    "                    akaze_g.append(m)\n",
    "            v=np.inf\n",
    "            if len(akaze_g)>10:\n",
    "                M, mask = cv2.findHomography(\n",
    "                    np.float32([ kpts1[m_.queryIdx].pt for m_ in akaze_g ]).reshape(-1,1,2),\n",
    "                    np.float32([ kpts2[m_.trainIdx].pt for m_ in akaze_g ]).reshape(-1,1,2),\n",
    "                cv2.RANSAC,5.0)\n",
    "                if M is None:\n",
    "                    time_spend = time.time() - start_t\n",
    "                    yield 0 ,np.inf, time_spend\n",
    "                mm = mask.ravel().tolist() \n",
    "                hight, wight = good_img.shape\n",
    "                pts = np.float32([ [0,0], [0,hight-1], [wight-1,hight-1], [wight-1,0] ]).reshape(-1,1,2)\n",
    "                dst = cv2.perspectiveTransform(pts, M)\n",
    "                v = np.mean([np.sqrt(np.sum(x)) for x in (np.power(pts-dst,2))]/(np.sqrt(hight**2 + wight**2)))   \n",
    "            else:\n",
    "                mm = [0]\n",
    "\n",
    "            time_spend = time.time() - start_t\n",
    "        except:\n",
    "            continue\n",
    "\n",
    "        yield np.sum(mm)/(len(akaze_g)), v, time_spend"
   ]
  },
  {
   "cell_type": "code",
   "execution_count": 46,
   "metadata": {},
   "outputs": [],
   "source": [
    "def kaze(folder):\n",
    "    detector = cv2.KAZE_create()\n",
    "    all_imgs = from_folder(folder)\n",
    "    good_img = all_imgs[0]\n",
    "\n",
    "    for i in all_imgs:\n",
    "        start_t = time.time()\n",
    "        kpts1,des1 = detector.detectAndCompute(good_img,None)\n",
    "        kpts2,des2 = detector.detectAndCompute(i,None)\n",
    "  \n",
    "        des1 = np.float32(des1)\n",
    "        des2 = np.float32(des2)\n",
    "        \n",
    "        FLANN_INDEX_KDTREE = 0\n",
    "        index_params = dict(algorithm = FLANN_INDEX_KDTREE, trees = 5)\n",
    "        search_params = dict(checks=10)\n",
    "\n",
    "        flann = cv2.FlannBasedMatcher(index_params, search_params)\n",
    "\n",
    "        try:\n",
    "            matches = flann.knnMatch(des1,des2,k=2)\n",
    "\n",
    "\n",
    "            kaze_g = []\n",
    "            for m, n in matches:\n",
    "                if m.distance < 0.8 * n.distance:\n",
    "                    kaze_g.append(m)\n",
    "            v=np.inf\n",
    "            if len(kaze_g)>10:\n",
    "                M, mask = cv2.findHomography(\n",
    "                    np.float32([ kpts1[m_.queryIdx].pt for m_ in kaze_g ]).reshape(-1,1,2),\n",
    "                    np.float32([ kpts2[m_.trainIdx].pt for m_ in kaze_g ]).reshape(-1,1,2),\n",
    "                cv2.RANSAC,5.0)\n",
    "                if M is None:\n",
    "                    time_spend = time.time() - start_t\n",
    "                    yield 0 ,np.inf, time_spend\n",
    "                mm = mask.ravel().tolist() \n",
    "                hight, wight = good_img.shape\n",
    "                pts = np.float32([ [0,0], [0,hight-1], [wight-1,hight-1], [wight-1,0] ]).reshape(-1,1,2)\n",
    "                dst = cv2.perspectiveTransform(pts, M)\n",
    "                v = np.mean([np.sqrt(np.sum(x)) for x in (np.power(pts-dst,2))]/(np.sqrt(hight**2 + wight**2)))   \n",
    "            else:\n",
    "                mm = [0]\n",
    "\n",
    "            time_spend = time.time() - start_t\n",
    "        except:\n",
    "            continue\n",
    "\n",
    "        yield np.sum(mm)/(len(kaze_g)), v, time_spend"
   ]
  },
  {
   "cell_type": "code",
   "execution_count": 30,
   "metadata": {},
   "outputs": [],
   "source": [
    "def results(algorithm, file):\n",
    "    with open(file, 'w') as file:\n",
    "        for i in algorithm:    \n",
    "            print(i, file=file, sep='\\n')"
   ]
  },
  {
   "cell_type": "code",
   "execution_count": 41,
   "metadata": {},
   "outputs": [],
   "source": [
    "results(kaze('sts\\s1'), 'kaze.txt')"
   ]
  },
  {
   "cell_type": "code",
   "execution_count": 47,
   "metadata": {},
   "outputs": [
    {
     "name": "stderr",
     "output_type": "stream",
     "text": [
      "C:\\Users\\user\\Anaconda3\\lib\\site-packages\\ipykernel_launcher.py:49: RuntimeWarning: invalid value encountered in long_scalars\n"
     ]
    }
   ],
   "source": [
    "results(akaze('sts\\s1'), 'akaze.txt')"
   ]
  },
  {
   "cell_type": "code",
   "execution_count": 48,
   "metadata": {},
   "outputs": [],
   "source": [
    "results(brisk('sts\\s1'), 'brisk.txt')"
   ]
  },
  {
   "cell_type": "markdown",
   "metadata": {},
   "source": [
    "**Тож можемо зробити висновки: результати виявилися очікуваними (рез-ти в файлах) - в змаганні дескрипторів переміг Akaze, який виявився найшвидшим і показав кращі результати щодо відносної похибки локалізації на відносної кількості правильно суміщених ознак.**"
   ]
  },
  {
   "cell_type": "code",
   "execution_count": null,
   "metadata": {},
   "outputs": [],
   "source": []
  }
 ],
 "metadata": {
  "file_extension": ".py",
  "kernelspec": {
   "display_name": "Python 3",
   "language": "python",
   "name": "python3"
  },
  "language_info": {
   "codemirror_mode": {
    "name": "ipython",
    "version": 3
   },
   "file_extension": ".py",
   "mimetype": "text/x-python",
   "name": "python",
   "nbconvert_exporter": "python",
   "pygments_lexer": "ipython3",
   "version": "3.7.4"
  },
  "mimetype": "text/x-python",
  "name": "python",
  "npconvert_exporter": "python",
  "pygments_lexer": "ipython3",
  "version": 3
 },
 "nbformat": 4,
 "nbformat_minor": 2
}
